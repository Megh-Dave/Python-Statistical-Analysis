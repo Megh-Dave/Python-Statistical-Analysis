{
  "nbformat": 4,
  "nbformat_minor": 0,
  "metadata": {
    "colab": {
      "provenance": []
    },
    "kernelspec": {
      "name": "python3",
      "display_name": "Python 3"
    },
    "language_info": {
      "name": "python"
    }
  },
  "cells": [
    {
      "cell_type": "markdown",
      "source": [
        "# **Data Mentorship Program \n",
        "\n",
        "![Logo.png](data:image/png;base64,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)\n",
        "\n",
        "\n",
        "Advanced Statistics in Python (Hypothesis testing, introduction to p-value, probability, and sampling distributions)\n",
        "\n",
        "\n",
        "Data Mentorship Proogram presents this class as a form of an educational event. All the information and code on this file is the property of Data Mentorship Program. If you have any questions, please email us at rajvi@datamentorship.org\n",
        "\n",
        "In this Google Collab, we will be using a public dataset to learn about basic statisical coding using Jupyter Notebooks. Please follow along each step. \n",
        "## Import Notebooks and Packages "
      ],
      "metadata": {
        "id": "ldXPF6Jg3Fr3"
      }
    },
    {
      "cell_type": "code",
      "execution_count": null,
      "metadata": {
        "colab": {
          "base_uri": "https://localhost:8080/"
        },
        "id": "Rd4ndyNg2_RI",
        "outputId": "a44b54a5-7dfe-4cbd-ee01-0a6c372bdf3c"
      },
      "outputs": [
        {
          "output_type": "stream",
          "name": "stdout",
          "text": [
            "0  R&D Spend Administration Marketing Spend       State    Profit\n",
            "1   165349.2       136897.8        471784.1    New York  192261.8\n",
            "2   162597.7       151377.6        443898.5  California  191792.1\n",
            "3   153441.5       101145.6        407934.5     Florida  191050.4\n",
            "4   144372.4       118671.9        383199.6    New York    182902\n",
            "5   142107.3       91391.77        366168.4     Florida  166187.9\n",
            "6   131876.9       99814.71        362861.4    New York  156991.1\n",
            "7   134615.5       147198.9        127716.8  California  156122.5\n",
            "8   130298.1       145530.1        323876.7     Florida  155752.6\n",
            "9   120542.5         148719        311613.3    New York  152211.8\n",
            "10  123334.9       108679.2        304981.6  California    149760\n"
          ]
        }
      ],
      "source": [
        "## Download library to import from Google sheets\n",
        "# Conduct descriptive analysis in Python (mean, median, mode, Standard deviation)\n",
        "#Goal : This document shares a step by step guide on conducting descriptive statistics using Jupyter\n",
        "\n",
        "##Step 1 - Download google sheet data\n",
        "from google.colab import auth\n",
        "auth.authenticate_user()\n",
        "\n",
        "import gspread\n",
        "from google.auth import default\n",
        "creds, _ = default()\n",
        "\n",
        "gc = gspread.authorize(creds)\n",
        "\n",
        "workbook = gc.open_by_url('https://docs.google.com/spreadsheets/d/12SPs65HdUE2E5I3D38wmDvWsTPpMXeN2JURg0cxBr3U/edit#gid=0')\n",
        "ws = workbook.worksheet('Sheet1')\n",
        "\n",
        "# get_all_values gives a list of rows.\n",
        "rows = ws.get_all_values()\n",
        "\n",
        "\n",
        "# Convert to a DataFrame and render.\n",
        "import pandas as pd\n",
        "df = pd.DataFrame.from_records(rows)\n",
        "#set column names equal to values in row index position 0\n",
        "df.columns = df.iloc[0]\n",
        "#remove first row from DataFrame\n",
        "df = df[1:]\n",
        "print(df.head(10))"
      ]
    },
    {
      "cell_type": "code",
      "source": [
        "import pandas as pd\n",
        "import numpy as np\n",
        "import matplotlib.pyplot as plt\n",
        "import seaborn as sns\n",
        "import statsmodels.api as sm\n",
        "import scipy.stats as stats"
      ],
      "metadata": {
        "id": "8GomPgVT3dSo"
      },
      "execution_count": null,
      "outputs": []
    },
    {
      "cell_type": "code",
      "source": [
        "#Get columns\n",
        "df.columns"
      ],
      "metadata": {
        "colab": {
          "base_uri": "https://localhost:8080/"
        },
        "id": "4dvvePPY3lWG",
        "outputId": "57622ba3-b82b-48cb-a122-437c5065a3ac"
      },
      "execution_count": null,
      "outputs": [
        {
          "output_type": "execute_result",
          "data": {
            "text/plain": [
              "Index(['R&D Spend', 'Administration', 'Marketing Spend', 'State', 'Profit'], dtype='object', name=0)"
            ]
          },
          "metadata": {},
          "execution_count": 7
        }
      ]
    },
    {
      "cell_type": "code",
      "source": [
        "##Convert the columns to specific data types\n",
        "\n",
        "\n",
        "df['R&D Spend'] = df['R&D Spend'].astype(float)\n",
        "df['Administration'] = df['Administration'].astype(float)\n",
        "df['Marketing Spend'] = df['Marketing Spend'].astype(float)\n",
        "df['Profit'] = df['Profit'].astype(float)"
      ],
      "metadata": {
        "id": "3Q2wf02m3iMQ"
      },
      "execution_count": null,
      "outputs": []
    },
    {
      "cell_type": "code",
      "source": [
        "#Look at top 5 enteries \n",
        "df.head(5)"
      ],
      "metadata": {
        "colab": {
          "base_uri": "https://localhost:8080/",
          "height": 206
        },
        "id": "cMqByfrN32LI",
        "outputId": "03fc3bdc-c07d-41a5-86c9-0c882f1a25da"
      },
      "execution_count": null,
      "outputs": [
        {
          "output_type": "execute_result",
          "data": {
            "text/plain": [
              "0  R&D Spend  Administration  Marketing Spend       State    Profit\n",
              "1   165349.2       136897.80         471784.1    New York  192261.8\n",
              "2   162597.7       151377.60         443898.5  California  191792.1\n",
              "3   153441.5       101145.60         407934.5     Florida  191050.4\n",
              "4   144372.4       118671.90         383199.6    New York  182902.0\n",
              "5   142107.3        91391.77         366168.4     Florida  166187.9"
            ],
            "text/html": [
              "\n",
              "  <div id=\"df-e4adfe1e-f1cb-45c9-8eb5-412457b429da\">\n",
              "    <div class=\"colab-df-container\">\n",
              "      <div>\n",
              "<style scoped>\n",
              "    .dataframe tbody tr th:only-of-type {\n",
              "        vertical-align: middle;\n",
              "    }\n",
              "\n",
              "    .dataframe tbody tr th {\n",
              "        vertical-align: top;\n",
              "    }\n",
              "\n",
              "    .dataframe thead th {\n",
              "        text-align: right;\n",
              "    }\n",
              "</style>\n",
              "<table border=\"1\" class=\"dataframe\">\n",
              "  <thead>\n",
              "    <tr style=\"text-align: right;\">\n",
              "      <th></th>\n",
              "      <th>R&amp;D Spend</th>\n",
              "      <th>Administration</th>\n",
              "      <th>Marketing Spend</th>\n",
              "      <th>State</th>\n",
              "      <th>Profit</th>\n",
              "    </tr>\n",
              "  </thead>\n",
              "  <tbody>\n",
              "    <tr>\n",
              "      <th>1</th>\n",
              "      <td>165349.2</td>\n",
              "      <td>136897.80</td>\n",
              "      <td>471784.1</td>\n",
              "      <td>New York</td>\n",
              "      <td>192261.8</td>\n",
              "    </tr>\n",
              "    <tr>\n",
              "      <th>2</th>\n",
              "      <td>162597.7</td>\n",
              "      <td>151377.60</td>\n",
              "      <td>443898.5</td>\n",
              "      <td>California</td>\n",
              "      <td>191792.1</td>\n",
              "    </tr>\n",
              "    <tr>\n",
              "      <th>3</th>\n",
              "      <td>153441.5</td>\n",
              "      <td>101145.60</td>\n",
              "      <td>407934.5</td>\n",
              "      <td>Florida</td>\n",
              "      <td>191050.4</td>\n",
              "    </tr>\n",
              "    <tr>\n",
              "      <th>4</th>\n",
              "      <td>144372.4</td>\n",
              "      <td>118671.90</td>\n",
              "      <td>383199.6</td>\n",
              "      <td>New York</td>\n",
              "      <td>182902.0</td>\n",
              "    </tr>\n",
              "    <tr>\n",
              "      <th>5</th>\n",
              "      <td>142107.3</td>\n",
              "      <td>91391.77</td>\n",
              "      <td>366168.4</td>\n",
              "      <td>Florida</td>\n",
              "      <td>166187.9</td>\n",
              "    </tr>\n",
              "  </tbody>\n",
              "</table>\n",
              "</div>\n",
              "      <button class=\"colab-df-convert\" onclick=\"convertToInteractive('df-e4adfe1e-f1cb-45c9-8eb5-412457b429da')\"\n",
              "              title=\"Convert this dataframe to an interactive table.\"\n",
              "              style=\"display:none;\">\n",
              "        \n",
              "  <svg xmlns=\"http://www.w3.org/2000/svg\" height=\"24px\"viewBox=\"0 0 24 24\"\n",
              "       width=\"24px\">\n",
              "    <path d=\"M0 0h24v24H0V0z\" fill=\"none\"/>\n",
              "    <path d=\"M18.56 5.44l.94 2.06.94-2.06 2.06-.94-2.06-.94-.94-2.06-.94 2.06-2.06.94zm-11 1L8.5 8.5l.94-2.06 2.06-.94-2.06-.94L8.5 2.5l-.94 2.06-2.06.94zm10 10l.94 2.06.94-2.06 2.06-.94-2.06-.94-.94-2.06-.94 2.06-2.06.94z\"/><path d=\"M17.41 7.96l-1.37-1.37c-.4-.4-.92-.59-1.43-.59-.52 0-1.04.2-1.43.59L10.3 9.45l-7.72 7.72c-.78.78-.78 2.05 0 2.83L4 21.41c.39.39.9.59 1.41.59.51 0 1.02-.2 1.41-.59l7.78-7.78 2.81-2.81c.8-.78.8-2.07 0-2.86zM5.41 20L4 18.59l7.72-7.72 1.47 1.35L5.41 20z\"/>\n",
              "  </svg>\n",
              "      </button>\n",
              "      \n",
              "  <style>\n",
              "    .colab-df-container {\n",
              "      display:flex;\n",
              "      flex-wrap:wrap;\n",
              "      gap: 12px;\n",
              "    }\n",
              "\n",
              "    .colab-df-convert {\n",
              "      background-color: #E8F0FE;\n",
              "      border: none;\n",
              "      border-radius: 50%;\n",
              "      cursor: pointer;\n",
              "      display: none;\n",
              "      fill: #1967D2;\n",
              "      height: 32px;\n",
              "      padding: 0 0 0 0;\n",
              "      width: 32px;\n",
              "    }\n",
              "\n",
              "    .colab-df-convert:hover {\n",
              "      background-color: #E2EBFA;\n",
              "      box-shadow: 0px 1px 2px rgba(60, 64, 67, 0.3), 0px 1px 3px 1px rgba(60, 64, 67, 0.15);\n",
              "      fill: #174EA6;\n",
              "    }\n",
              "\n",
              "    [theme=dark] .colab-df-convert {\n",
              "      background-color: #3B4455;\n",
              "      fill: #D2E3FC;\n",
              "    }\n",
              "\n",
              "    [theme=dark] .colab-df-convert:hover {\n",
              "      background-color: #434B5C;\n",
              "      box-shadow: 0px 1px 3px 1px rgba(0, 0, 0, 0.15);\n",
              "      filter: drop-shadow(0px 1px 2px rgba(0, 0, 0, 0.3));\n",
              "      fill: #FFFFFF;\n",
              "    }\n",
              "  </style>\n",
              "\n",
              "      <script>\n",
              "        const buttonEl =\n",
              "          document.querySelector('#df-e4adfe1e-f1cb-45c9-8eb5-412457b429da button.colab-df-convert');\n",
              "        buttonEl.style.display =\n",
              "          google.colab.kernel.accessAllowed ? 'block' : 'none';\n",
              "\n",
              "        async function convertToInteractive(key) {\n",
              "          const element = document.querySelector('#df-e4adfe1e-f1cb-45c9-8eb5-412457b429da');\n",
              "          const dataTable =\n",
              "            await google.colab.kernel.invokeFunction('convertToInteractive',\n",
              "                                                     [key], {});\n",
              "          if (!dataTable) return;\n",
              "\n",
              "          const docLinkHtml = 'Like what you see? Visit the ' +\n",
              "            '<a target=\"_blank\" href=https://colab.research.google.com/notebooks/data_table.ipynb>data table notebook</a>'\n",
              "            + ' to learn more about interactive tables.';\n",
              "          element.innerHTML = '';\n",
              "          dataTable['output_type'] = 'display_data';\n",
              "          await google.colab.output.renderOutput(dataTable, element);\n",
              "          const docLink = document.createElement('div');\n",
              "          docLink.innerHTML = docLinkHtml;\n",
              "          element.appendChild(docLink);\n",
              "        }\n",
              "      </script>\n",
              "    </div>\n",
              "  </div>\n",
              "  "
            ]
          },
          "metadata": {},
          "execution_count": 10
        }
      ]
    },
    {
      "cell_type": "code",
      "source": [
        "df.info()"
      ],
      "metadata": {
        "colab": {
          "base_uri": "https://localhost:8080/"
        },
        "id": "HuQL-YUr4SnC",
        "outputId": "1a054096-914d-40ba-e453-2db57619a8b0"
      },
      "execution_count": null,
      "outputs": [
        {
          "output_type": "stream",
          "name": "stdout",
          "text": [
            "<class 'pandas.core.frame.DataFrame'>\n",
            "RangeIndex: 47 entries, 1 to 47\n",
            "Data columns (total 5 columns):\n",
            " #   Column           Non-Null Count  Dtype  \n",
            "---  ------           --------------  -----  \n",
            " 0   R&D Spend        47 non-null     float64\n",
            " 1   Administration   47 non-null     float64\n",
            " 2   Marketing Spend  47 non-null     float64\n",
            " 3   State            47 non-null     object \n",
            " 4   Profit           47 non-null     float64\n",
            "dtypes: float64(4), object(1)\n",
            "memory usage: 2.0+ KB\n"
          ]
        }
      ]
    },
    {
      "cell_type": "code",
      "source": [
        "df.describe()"
      ],
      "metadata": {
        "colab": {
          "base_uri": "https://localhost:8080/",
          "height": 300
        },
        "id": "2eVcoARl4Uex",
        "outputId": "955544fe-89e3-49ff-c5a4-865cb8d56dbf"
      },
      "execution_count": null,
      "outputs": [
        {
          "output_type": "execute_result",
          "data": {
            "text/plain": [
              "0          R&D Spend  Administration  Marketing Spend         Profit\n",
              "count      47.000000       47.000000     4.700000e+01      47.000000\n",
              "mean    78415.716809   122618.692128     3.207293e+05  117185.477447\n",
              "std     43234.246856    26916.492131     6.425318e+05   35576.750441\n",
              "min      1000.230000    51283.140000     1.903930e+03   49490.750000\n",
              "25%     46220.045000   104404.250000     1.442880e+05   96596.155000\n",
              "50%     75328.870000   122782.800000     2.497446e+05  108734.000000\n",
              "75%    108218.350000   145303.850000     3.040440e+05  142922.450000\n",
              "max    165349.200000   182645.600000     4.568194e+06  192261.800000"
            ],
            "text/html": [
              "\n",
              "  <div id=\"df-6fd790a2-52ee-4d1b-8bbf-ab61455409ff\">\n",
              "    <div class=\"colab-df-container\">\n",
              "      <div>\n",
              "<style scoped>\n",
              "    .dataframe tbody tr th:only-of-type {\n",
              "        vertical-align: middle;\n",
              "    }\n",
              "\n",
              "    .dataframe tbody tr th {\n",
              "        vertical-align: top;\n",
              "    }\n",
              "\n",
              "    .dataframe thead th {\n",
              "        text-align: right;\n",
              "    }\n",
              "</style>\n",
              "<table border=\"1\" class=\"dataframe\">\n",
              "  <thead>\n",
              "    <tr style=\"text-align: right;\">\n",
              "      <th></th>\n",
              "      <th>R&amp;D Spend</th>\n",
              "      <th>Administration</th>\n",
              "      <th>Marketing Spend</th>\n",
              "      <th>Profit</th>\n",
              "    </tr>\n",
              "  </thead>\n",
              "  <tbody>\n",
              "    <tr>\n",
              "      <th>count</th>\n",
              "      <td>47.000000</td>\n",
              "      <td>47.000000</td>\n",
              "      <td>4.700000e+01</td>\n",
              "      <td>47.000000</td>\n",
              "    </tr>\n",
              "    <tr>\n",
              "      <th>mean</th>\n",
              "      <td>78415.716809</td>\n",
              "      <td>122618.692128</td>\n",
              "      <td>3.207293e+05</td>\n",
              "      <td>117185.477447</td>\n",
              "    </tr>\n",
              "    <tr>\n",
              "      <th>std</th>\n",
              "      <td>43234.246856</td>\n",
              "      <td>26916.492131</td>\n",
              "      <td>6.425318e+05</td>\n",
              "      <td>35576.750441</td>\n",
              "    </tr>\n",
              "    <tr>\n",
              "      <th>min</th>\n",
              "      <td>1000.230000</td>\n",
              "      <td>51283.140000</td>\n",
              "      <td>1.903930e+03</td>\n",
              "      <td>49490.750000</td>\n",
              "    </tr>\n",
              "    <tr>\n",
              "      <th>25%</th>\n",
              "      <td>46220.045000</td>\n",
              "      <td>104404.250000</td>\n",
              "      <td>1.442880e+05</td>\n",
              "      <td>96596.155000</td>\n",
              "    </tr>\n",
              "    <tr>\n",
              "      <th>50%</th>\n",
              "      <td>75328.870000</td>\n",
              "      <td>122782.800000</td>\n",
              "      <td>2.497446e+05</td>\n",
              "      <td>108734.000000</td>\n",
              "    </tr>\n",
              "    <tr>\n",
              "      <th>75%</th>\n",
              "      <td>108218.350000</td>\n",
              "      <td>145303.850000</td>\n",
              "      <td>3.040440e+05</td>\n",
              "      <td>142922.450000</td>\n",
              "    </tr>\n",
              "    <tr>\n",
              "      <th>max</th>\n",
              "      <td>165349.200000</td>\n",
              "      <td>182645.600000</td>\n",
              "      <td>4.568194e+06</td>\n",
              "      <td>192261.800000</td>\n",
              "    </tr>\n",
              "  </tbody>\n",
              "</table>\n",
              "</div>\n",
              "      <button class=\"colab-df-convert\" onclick=\"convertToInteractive('df-6fd790a2-52ee-4d1b-8bbf-ab61455409ff')\"\n",
              "              title=\"Convert this dataframe to an interactive table.\"\n",
              "              style=\"display:none;\">\n",
              "        \n",
              "  <svg xmlns=\"http://www.w3.org/2000/svg\" height=\"24px\"viewBox=\"0 0 24 24\"\n",
              "       width=\"24px\">\n",
              "    <path d=\"M0 0h24v24H0V0z\" fill=\"none\"/>\n",
              "    <path d=\"M18.56 5.44l.94 2.06.94-2.06 2.06-.94-2.06-.94-.94-2.06-.94 2.06-2.06.94zm-11 1L8.5 8.5l.94-2.06 2.06-.94-2.06-.94L8.5 2.5l-.94 2.06-2.06.94zm10 10l.94 2.06.94-2.06 2.06-.94-2.06-.94-.94-2.06-.94 2.06-2.06.94z\"/><path d=\"M17.41 7.96l-1.37-1.37c-.4-.4-.92-.59-1.43-.59-.52 0-1.04.2-1.43.59L10.3 9.45l-7.72 7.72c-.78.78-.78 2.05 0 2.83L4 21.41c.39.39.9.59 1.41.59.51 0 1.02-.2 1.41-.59l7.78-7.78 2.81-2.81c.8-.78.8-2.07 0-2.86zM5.41 20L4 18.59l7.72-7.72 1.47 1.35L5.41 20z\"/>\n",
              "  </svg>\n",
              "      </button>\n",
              "      \n",
              "  <style>\n",
              "    .colab-df-container {\n",
              "      display:flex;\n",
              "      flex-wrap:wrap;\n",
              "      gap: 12px;\n",
              "    }\n",
              "\n",
              "    .colab-df-convert {\n",
              "      background-color: #E8F0FE;\n",
              "      border: none;\n",
              "      border-radius: 50%;\n",
              "      cursor: pointer;\n",
              "      display: none;\n",
              "      fill: #1967D2;\n",
              "      height: 32px;\n",
              "      padding: 0 0 0 0;\n",
              "      width: 32px;\n",
              "    }\n",
              "\n",
              "    .colab-df-convert:hover {\n",
              "      background-color: #E2EBFA;\n",
              "      box-shadow: 0px 1px 2px rgba(60, 64, 67, 0.3), 0px 1px 3px 1px rgba(60, 64, 67, 0.15);\n",
              "      fill: #174EA6;\n",
              "    }\n",
              "\n",
              "    [theme=dark] .colab-df-convert {\n",
              "      background-color: #3B4455;\n",
              "      fill: #D2E3FC;\n",
              "    }\n",
              "\n",
              "    [theme=dark] .colab-df-convert:hover {\n",
              "      background-color: #434B5C;\n",
              "      box-shadow: 0px 1px 3px 1px rgba(0, 0, 0, 0.15);\n",
              "      filter: drop-shadow(0px 1px 2px rgba(0, 0, 0, 0.3));\n",
              "      fill: #FFFFFF;\n",
              "    }\n",
              "  </style>\n",
              "\n",
              "      <script>\n",
              "        const buttonEl =\n",
              "          document.querySelector('#df-6fd790a2-52ee-4d1b-8bbf-ab61455409ff button.colab-df-convert');\n",
              "        buttonEl.style.display =\n",
              "          google.colab.kernel.accessAllowed ? 'block' : 'none';\n",
              "\n",
              "        async function convertToInteractive(key) {\n",
              "          const element = document.querySelector('#df-6fd790a2-52ee-4d1b-8bbf-ab61455409ff');\n",
              "          const dataTable =\n",
              "            await google.colab.kernel.invokeFunction('convertToInteractive',\n",
              "                                                     [key], {});\n",
              "          if (!dataTable) return;\n",
              "\n",
              "          const docLinkHtml = 'Like what you see? Visit the ' +\n",
              "            '<a target=\"_blank\" href=https://colab.research.google.com/notebooks/data_table.ipynb>data table notebook</a>'\n",
              "            + ' to learn more about interactive tables.';\n",
              "          element.innerHTML = '';\n",
              "          dataTable['output_type'] = 'display_data';\n",
              "          await google.colab.output.renderOutput(dataTable, element);\n",
              "          const docLink = document.createElement('div');\n",
              "          docLink.innerHTML = docLinkHtml;\n",
              "          element.appendChild(docLink);\n",
              "        }\n",
              "      </script>\n",
              "    </div>\n",
              "  </div>\n",
              "  "
            ]
          },
          "metadata": {},
          "execution_count": 12
        }
      ]
    },
    {
      "cell_type": "code",
      "source": [
        "df.corr()"
      ],
      "metadata": {
        "colab": {
          "base_uri": "https://localhost:8080/",
          "height": 206
        },
        "id": "XwVSYPmE4Vuq",
        "outputId": "32668cea-9abf-4b81-8a0a-2ab257675ee0"
      },
      "execution_count": null,
      "outputs": [
        {
          "output_type": "execute_result",
          "data": {
            "text/plain": [
              "0                R&D Spend  Administration  Marketing Spend    Profit\n",
              "0                                                                    \n",
              "R&D Spend         1.000000        0.197825         0.148520  0.977709\n",
              "Administration    0.197825        1.000000         0.154043  0.137056\n",
              "Marketing Spend   0.148520        0.154043         1.000000  0.148543\n",
              "Profit            0.977709        0.137056         0.148543  1.000000"
            ],
            "text/html": [
              "\n",
              "  <div id=\"df-a3e78c37-0bbc-4da7-87bd-97aac56f3578\">\n",
              "    <div class=\"colab-df-container\">\n",
              "      <div>\n",
              "<style scoped>\n",
              "    .dataframe tbody tr th:only-of-type {\n",
              "        vertical-align: middle;\n",
              "    }\n",
              "\n",
              "    .dataframe tbody tr th {\n",
              "        vertical-align: top;\n",
              "    }\n",
              "\n",
              "    .dataframe thead th {\n",
              "        text-align: right;\n",
              "    }\n",
              "</style>\n",
              "<table border=\"1\" class=\"dataframe\">\n",
              "  <thead>\n",
              "    <tr style=\"text-align: right;\">\n",
              "      <th></th>\n",
              "      <th>R&amp;D Spend</th>\n",
              "      <th>Administration</th>\n",
              "      <th>Marketing Spend</th>\n",
              "      <th>Profit</th>\n",
              "    </tr>\n",
              "    <tr>\n",
              "      <th>0</th>\n",
              "      <th></th>\n",
              "      <th></th>\n",
              "      <th></th>\n",
              "      <th></th>\n",
              "    </tr>\n",
              "  </thead>\n",
              "  <tbody>\n",
              "    <tr>\n",
              "      <th>R&amp;D Spend</th>\n",
              "      <td>1.000000</td>\n",
              "      <td>0.197825</td>\n",
              "      <td>0.148520</td>\n",
              "      <td>0.977709</td>\n",
              "    </tr>\n",
              "    <tr>\n",
              "      <th>Administration</th>\n",
              "      <td>0.197825</td>\n",
              "      <td>1.000000</td>\n",
              "      <td>0.154043</td>\n",
              "      <td>0.137056</td>\n",
              "    </tr>\n",
              "    <tr>\n",
              "      <th>Marketing Spend</th>\n",
              "      <td>0.148520</td>\n",
              "      <td>0.154043</td>\n",
              "      <td>1.000000</td>\n",
              "      <td>0.148543</td>\n",
              "    </tr>\n",
              "    <tr>\n",
              "      <th>Profit</th>\n",
              "      <td>0.977709</td>\n",
              "      <td>0.137056</td>\n",
              "      <td>0.148543</td>\n",
              "      <td>1.000000</td>\n",
              "    </tr>\n",
              "  </tbody>\n",
              "</table>\n",
              "</div>\n",
              "      <button class=\"colab-df-convert\" onclick=\"convertToInteractive('df-a3e78c37-0bbc-4da7-87bd-97aac56f3578')\"\n",
              "              title=\"Convert this dataframe to an interactive table.\"\n",
              "              style=\"display:none;\">\n",
              "        \n",
              "  <svg xmlns=\"http://www.w3.org/2000/svg\" height=\"24px\"viewBox=\"0 0 24 24\"\n",
              "       width=\"24px\">\n",
              "    <path d=\"M0 0h24v24H0V0z\" fill=\"none\"/>\n",
              "    <path d=\"M18.56 5.44l.94 2.06.94-2.06 2.06-.94-2.06-.94-.94-2.06-.94 2.06-2.06.94zm-11 1L8.5 8.5l.94-2.06 2.06-.94-2.06-.94L8.5 2.5l-.94 2.06-2.06.94zm10 10l.94 2.06.94-2.06 2.06-.94-2.06-.94-.94-2.06-.94 2.06-2.06.94z\"/><path d=\"M17.41 7.96l-1.37-1.37c-.4-.4-.92-.59-1.43-.59-.52 0-1.04.2-1.43.59L10.3 9.45l-7.72 7.72c-.78.78-.78 2.05 0 2.83L4 21.41c.39.39.9.59 1.41.59.51 0 1.02-.2 1.41-.59l7.78-7.78 2.81-2.81c.8-.78.8-2.07 0-2.86zM5.41 20L4 18.59l7.72-7.72 1.47 1.35L5.41 20z\"/>\n",
              "  </svg>\n",
              "      </button>\n",
              "      \n",
              "  <style>\n",
              "    .colab-df-container {\n",
              "      display:flex;\n",
              "      flex-wrap:wrap;\n",
              "      gap: 12px;\n",
              "    }\n",
              "\n",
              "    .colab-df-convert {\n",
              "      background-color: #E8F0FE;\n",
              "      border: none;\n",
              "      border-radius: 50%;\n",
              "      cursor: pointer;\n",
              "      display: none;\n",
              "      fill: #1967D2;\n",
              "      height: 32px;\n",
              "      padding: 0 0 0 0;\n",
              "      width: 32px;\n",
              "    }\n",
              "\n",
              "    .colab-df-convert:hover {\n",
              "      background-color: #E2EBFA;\n",
              "      box-shadow: 0px 1px 2px rgba(60, 64, 67, 0.3), 0px 1px 3px 1px rgba(60, 64, 67, 0.15);\n",
              "      fill: #174EA6;\n",
              "    }\n",
              "\n",
              "    [theme=dark] .colab-df-convert {\n",
              "      background-color: #3B4455;\n",
              "      fill: #D2E3FC;\n",
              "    }\n",
              "\n",
              "    [theme=dark] .colab-df-convert:hover {\n",
              "      background-color: #434B5C;\n",
              "      box-shadow: 0px 1px 3px 1px rgba(0, 0, 0, 0.15);\n",
              "      filter: drop-shadow(0px 1px 2px rgba(0, 0, 0, 0.3));\n",
              "      fill: #FFFFFF;\n",
              "    }\n",
              "  </style>\n",
              "\n",
              "      <script>\n",
              "        const buttonEl =\n",
              "          document.querySelector('#df-a3e78c37-0bbc-4da7-87bd-97aac56f3578 button.colab-df-convert');\n",
              "        buttonEl.style.display =\n",
              "          google.colab.kernel.accessAllowed ? 'block' : 'none';\n",
              "\n",
              "        async function convertToInteractive(key) {\n",
              "          const element = document.querySelector('#df-a3e78c37-0bbc-4da7-87bd-97aac56f3578');\n",
              "          const dataTable =\n",
              "            await google.colab.kernel.invokeFunction('convertToInteractive',\n",
              "                                                     [key], {});\n",
              "          if (!dataTable) return;\n",
              "\n",
              "          const docLinkHtml = 'Like what you see? Visit the ' +\n",
              "            '<a target=\"_blank\" href=https://colab.research.google.com/notebooks/data_table.ipynb>data table notebook</a>'\n",
              "            + ' to learn more about interactive tables.';\n",
              "          element.innerHTML = '';\n",
              "          dataTable['output_type'] = 'display_data';\n",
              "          await google.colab.output.renderOutput(dataTable, element);\n",
              "          const docLink = document.createElement('div');\n",
              "          docLink.innerHTML = docLinkHtml;\n",
              "          element.appendChild(docLink);\n",
              "        }\n",
              "      </script>\n",
              "    </div>\n",
              "  </div>\n",
              "  "
            ]
          },
          "metadata": {},
          "execution_count": 13
        }
      ]
    },
    {
      "cell_type": "code",
      "source": [
        "sns.heatmap(df.corr());"
      ],
      "metadata": {
        "colab": {
          "base_uri": "https://localhost:8080/",
          "height": 358
        },
        "id": "2Wh952-64ig6",
        "outputId": "3c021fd7-6cc1-4b0a-bce6-28e399d2ab0f"
      },
      "execution_count": null,
      "outputs": [
        {
          "output_type": "display_data",
          "data": {
            "text/plain": [
              "<Figure size 432x288 with 2 Axes>"
            ],
            "image/png": "[encoded data removed]"
          },
          "metadata": {
            "needs_background": "light"
          }
        }
      ]
    },
    {
      "cell_type": "markdown",
      "source": [
        "Step 3: Check Normality \n",
        "What is Normality in statistics? The normal distribution describes the shape of the data (normally distributed data has a bell curve shape). Here, we are using a hypothesis test for checking the normality of the data. \n",
        "Null Hypothesis: The data is not normally distributed. \n",
        "Alternative Hypothesis: The data is normally distributed,\n"
      ],
      "metadata": {
        "id": "Zu6k8Eqv4nV6"
      }
    },
    {
      "cell_type": "code",
      "source": [
        "df2 = df[[\"R&D Spend\",\"Administration\",\"Marketing Spend\",\"Profit\"]]"
      ],
      "metadata": {
        "id": "pRIpFokh4lnr"
      },
      "execution_count": null,
      "outputs": []
    },
    {
      "cell_type": "code",
      "source": [
        "df2.columns"
      ],
      "metadata": {
        "colab": {
          "base_uri": "https://localhost:8080/"
        },
        "id": "jHtZHvfN4yn3",
        "outputId": "b4cc2544-2164-4eba-abd2-d5d6396ddaa4"
      },
      "execution_count": null,
      "outputs": [
        {
          "output_type": "execute_result",
          "data": {
            "text/plain": [
              "Index(['R&D Spend', 'Administration', 'Marketing Spend', 'Profit'], dtype='object', name=0)"
            ]
          },
          "metadata": {},
          "execution_count": 17
        }
      ]
    },
    {
      "cell_type": "markdown",
      "source": [
        "Check Normality"
      ],
      "metadata": {
        "id": "1VXLr3Hu44nJ"
      }
    },
    {
      "cell_type": "code",
      "source": [
        "def check_normality(df2):\n",
        "  test_stat_normality, p_value_normality = stats.shapiro(df2)\n",
        "  print(p_value_normality)"
      ],
      "metadata": {
        "id": "ly1TLwP240XT"
      },
      "execution_count": null,
      "outputs": []
    },
    {
      "cell_type": "code",
      "source": [
        "group1 = df2[[\"R&D Spend\"]]\n",
        "group2 = df2[[\"Profit\"]]\n",
        "group3 = df2[[\"Marketing Spend\"]]"
      ],
      "metadata": {
        "id": "iAgouqhH5Dae"
      },
      "execution_count": null,
      "outputs": []
    },
    {
      "cell_type": "code",
      "source": [
        "check_normality(group1)\n",
        "check_normality(group2)"
      ],
      "metadata": {
        "colab": {
          "base_uri": "https://localhost:8080/"
        },
        "id": "fcShC1PF5Kes",
        "outputId": "c1cfee6c-e19c-4fa0-b25b-1e1c1db18d23"
      },
      "execution_count": null,
      "outputs": [
        {
          "output_type": "stream",
          "name": "stdout",
          "text": [
            "0.37213364243507385\n",
            "0.20281466841697693\n"
          ]
        }
      ]
    },
    {
      "cell_type": "markdown",
      "source": [
        "Fail to reject Null hypotheisis >> the data is normally distributed"
      ],
      "metadata": {
        "id": "Grs-v17U50fA"
      }
    },
    {
      "cell_type": "markdown",
      "source": [
        "Conduct T Test \n",
        "There are two types of tests that you can take at this point. T Test Z Test\n",
        "\n",
        "\n"
      ],
      "metadata": {
        "id": "O1XV0iK155jL"
      }
    },
    {
      "cell_type": "code",
      "source": [
        "ttest, p_value = stats.ttest_ind(group1, group2)\n",
        "print(p_value)"
      ],
      "metadata": {
        "colab": {
          "base_uri": "https://localhost:8080/"
        },
        "id": "Mppyun0f5MNv",
        "outputId": "ca2775bd-c01c-40bb-cdaf-e02a89a0cbd7"
      },
      "execution_count": null,
      "outputs": [
        {
          "output_type": "stream",
          "name": "stdout",
          "text": [
            "[7.54714522e-06]\n"
          ]
        }
      ]
    },
    {
      "cell_type": "markdown",
      "source": [
        "PValue is less than 0.05, hence we reject the null hypothesis - R&D spend drops profit"
      ],
      "metadata": {
        "id": "oar2NB3w9xCH"
      }
    },
    {
      "cell_type": "markdown",
      "source": [
        "Expand the hypothesis to all three states\n",
        "\n",
        "Testing the hypothesis between the three states"
      ],
      "metadata": {
        "id": "yGr4-YIR94BM"
      }
    },
    {
      "cell_type": "code",
      "source": [
        "df_ny = df[df['State'] == 'New York']\n",
        "df_cl = df[df['State'] == 'California']\n",
        "df_fl = df[df['State'] == 'Florida']"
      ],
      "metadata": {
        "id": "FVkUmPxh9svX"
      },
      "execution_count": null,
      "outputs": []
    },
    {
      "cell_type": "code",
      "source": [
        "##Testing for New York"
      ],
      "metadata": {
        "id": "wlmVHxNX-J8Z"
      },
      "execution_count": null,
      "outputs": []
    },
    {
      "cell_type": "code",
      "source": [
        "dfny = df_ny[[\"R&D Spend\",\"Administration\",\"Marketing Spend\",\"Profit\"]]\n"
      ],
      "metadata": {
        "id": "PxifQqtA-Mju"
      },
      "execution_count": null,
      "outputs": []
    },
    {
      "cell_type": "code",
      "source": [
        "groupny1 = dfny[[\"R&D Spend\"]]\n",
        "groupny2 = dfny[[\"Profit\"]]"
      ],
      "metadata": {
        "id": "riTq6jVN-gYS"
      },
      "execution_count": null,
      "outputs": []
    },
    {
      "cell_type": "code",
      "source": [
        "ttest, p_value = stats.ttest_ind(groupny1, groupny2)"
      ],
      "metadata": {
        "id": "QtDzhcDF-mUT"
      },
      "execution_count": null,
      "outputs": []
    },
    {
      "cell_type": "code",
      "source": [
        "print(p_value)"
      ],
      "metadata": {
        "colab": {
          "base_uri": "https://localhost:8080/"
        },
        "id": "WqURiwVc-qio",
        "outputId": "8c40a1a3-88c9-49fd-93eb-a346c9b34e37"
      },
      "execution_count": null,
      "outputs": [
        {
          "output_type": "stream",
          "name": "stdout",
          "text": [
            "[0.01711375]\n"
          ]
        }
      ]
    },
    {
      "cell_type": "code",
      "source": [
        "dfcl = df_cl[[\"R&D Spend\",\"Administration\",\"Marketing Spend\",\"Profit\"]]\n",
        "groupcl1 = dfcl[[\"R&D Spend\"]]\n",
        "groupcl2 = dfcl[[\"Profit\"]]"
      ],
      "metadata": {
        "id": "6ly_u-ZF-sWR"
      },
      "execution_count": null,
      "outputs": []
    },
    {
      "cell_type": "code",
      "source": [
        "ttest, p_value = stats.ttest_ind(groupcl1, groupcl2)\n",
        "print(p_value)"
      ],
      "metadata": {
        "colab": {
          "base_uri": "https://localhost:8080/"
        },
        "id": "LtTpjm7c-8St",
        "outputId": "0b01a560-5f59-4698-dc65-116c3a426a34"
      },
      "execution_count": null,
      "outputs": [
        {
          "output_type": "stream",
          "name": "stdout",
          "text": [
            "[0.00878659]\n"
          ]
        }
      ]
    },
    {
      "cell_type": "code",
      "source": [
        "dffl = df_fl[[\"R&D Spend\",\"Administration\",\"Marketing Spend\",\"Profit\"]]\n",
        "groupfl1 = dffl[[\"R&D Spend\"]]\n",
        "groupfl2 = dffl[[\"Profit\"]]\n",
        "ttest, p_value = stats.ttest_ind(groupfl1, groupfl2)\n",
        "print(p_value)"
      ],
      "metadata": {
        "colab": {
          "base_uri": "https://localhost:8080/"
        },
        "id": "f_Nduc2N_CAb",
        "outputId": "ddcaf40e-9749-4886-fe38-ac4b4f0be3bc"
      },
      "execution_count": null,
      "outputs": [
        {
          "output_type": "stream",
          "name": "stdout",
          "text": [
            "[0.01008884]\n"
          ]
        }
      ]
    },
    {
      "cell_type": "markdown",
      "source": [
        "For all three states, the null hypothesis is false, which means that increase in R&D spend increases profit"
      ],
      "metadata": {
        "id": "jmOBh3sM_XQk"
      }
    },
    {
      "cell_type": "code",
      "source": [],
      "metadata": {
        "id": "ESKk9PxC_V0K"
      },
      "execution_count": null,
      "outputs": []
    }
  ]
}