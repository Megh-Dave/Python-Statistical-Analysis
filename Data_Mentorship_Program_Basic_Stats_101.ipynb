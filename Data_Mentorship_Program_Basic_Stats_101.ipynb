{
  "nbformat": 4,
  "nbformat_minor": 0,
  "metadata": {
    "colab": {
      "provenance": []
    },
    "kernelspec": {
      "name": "python3",
      "display_name": "Python 3"
    },
    "language_info": {
      "name": "python"
    }
  },
  "cells": [
    {
      "cell_type": "markdown",
      "source": [
        "\n",
        "# **Data Mentorship Program - Introduction to Stats**\n",
        "\n",
        "Data Mentorship Proogram presents this class as a form of an educational event. All the information and code on this file is the property of Data Mentorship Program. If you have any questions, please email us at rajvi@datamentorship.org\n",
        "\n",
        "In this Google Collab, we will be using a public dataset to learn about basic statisical coding using Jupyter Notebooks. Please follow along each step. \n",
        "\n",
        "\n",
        "## Import Notebooks and Packages \n",
        "\n",
        "This first exercise goes over basic statistical exercises in python using Top Billionaire Dataset. \n",
        "\n",
        "Answer the following questions throughout this exercise\n",
        "\n",
        "1. What are the average and median ages of the top 50 billionaires? (data. describe) (basic EDA)\n",
        "2. What are the common trends among the top 10 billionaires and compare them to the bottom 10 billionaires? (bar graph, stacked bar chart)  \n",
        "3. Which continent have the most billionaires? (group by)\n",
        "4. What is the correlation between age and net worth? Graphical Representation (scatter plot)\n",
        "5. Which COUNTRY has the highest proportion of billionaires? Which country has the highest probability of billionaires whose net worth will be above average(group by sources) \n",
        "6. ANOVA F-test (United States vs. other countries)\n",
        "\n"
      ],
      "metadata": {
        "id": "pzIPVbrLSV0d"
      }
    },
    {
      "cell_type": "code",
      "execution_count": null,
      "metadata": {
        "id": "GDi7e7psRd_h"
      },
      "outputs": [],
      "source": [
        "## Download library to import from Google sheets\n",
        "# Conduct descriptive analysis in Python (mean, median, mode, Standard deviation)\n",
        "#Goal : This document shares a step by step guide on conducting descriptive statistics using Jupyter\n",
        "\n",
        "##Step 1 - Download google sheet data\n",
        "from google.colab import auth\n",
        "auth.authenticate_user()\n",
        "\n",
        "import gspread\n",
        "from google.auth import default\n",
        "creds, _ = default()\n",
        "\n",
        "gc = gspread.authorize(creds)\n",
        "\n",
        "workbook = gc.open_by_url('https://docs.google.com/spreadsheets/d/1ShGbohm9zma4LNJkw1eXrpufjZX6soMKlk6EISOEezo/edit#gid=0')\n",
        "ws = workbook.worksheet('Sheet1')\n",
        "\n",
        "# get_all_values gives a list of rows.\n",
        "rows = ws.get_all_values()\n",
        "\n",
        "\n",
        "# Convert to a DataFrame and render.\n",
        "import pandas as pd\n",
        "df = pd.DataFrame.from_records(rows)\n",
        "#set column names equal to values in row index position 0\n",
        "df.columns = df.iloc[0]\n",
        "#remove first row from DataFrame\n",
        "df = df[1:]\n",
        "print(df.head(10))"
      ]
    },
    {
      "cell_type": "markdown",
      "source": [],
      "metadata": {
        "id": "JF_834khSU80"
      }
    },
    {
      "cell_type": "code",
      "source": [
        "##Question 1 - conduct basic EDA\n",
        "##Quick Python tip - To run a cell click Shift + Enter"
      ],
      "metadata": {
        "id": "2EZ0sYhsSTy6"
      },
      "execution_count": null,
      "outputs": []
    },
    {
      "cell_type": "code",
      "source": [
        "import pandas as pd\n",
        "import numpy as np\n",
        "import matplotlib.pyplot as plt"
      ],
      "metadata": {
        "id": "pMuvg8-sQpDC"
      },
      "execution_count": null,
      "outputs": []
    },
    {
      "cell_type": "code",
      "source": [
        "df.head(10)"
      ],
      "metadata": {
        "id": "5uFkxBEcbJDI"
      },
      "execution_count": null,
      "outputs": []
    },
    {
      "cell_type": "code",
      "source": [
        "##Convert the columns to specific data types\n",
        "\n",
        "\n",
        "df['NET WORTH'] = df['NET WORTH'].replace({'\\$':'','B':''},regex =True).astype(float)\n",
        "df['RANK'] = df['RANK'].astype(float)\n",
        "df['AGE'] = df['AGE'].astype(float)"
      ],
      "metadata": {
        "id": "xI_l5f5Gc0Cz"
      },
      "execution_count": null,
      "outputs": []
    },
    {
      "cell_type": "code",
      "source": [
        "##df.info()\n",
        "\n",
        "df.info()"
      ],
      "metadata": {
        "id": "IJ6B4aOkbfub"
      },
      "execution_count": null,
      "outputs": []
    },
    {
      "cell_type": "code",
      "source": [
        "##df.describe()"
      ],
      "metadata": {
        "id": "E4S9ANYabpwA"
      },
      "execution_count": null,
      "outputs": []
    },
    {
      "cell_type": "code",
      "source": [
        "df.columns"
      ],
      "metadata": {
        "id": "ExjduTZzcPep"
      },
      "execution_count": null,
      "outputs": []
    },
    {
      "cell_type": "markdown",
      "source": [
        "Question 2: What are the common trends among the top 10 billionaires and compare them to the bottom 10 billionaires?"
      ],
      "metadata": {
        "id": "E-6gh9P_bu-T"
      }
    },
    {
      "cell_type": "code",
      "source": [
        "##Separate the top 10 and bottom 10 billionaires\n",
        "#CHECK\n",
        "\n",
        "bottom_10 = df.nlargest(10,'RANK')\n",
        "top_10 = df.nsmallest(10,'RANK')"
      ],
      "metadata": {
        "id": "eJaaiOLRbuS7"
      },
      "execution_count": null,
      "outputs": []
    },
    {
      "cell_type": "code",
      "source": [
        "#Compare the mean age for each group\n",
        "\n",
        "import numpy as np\n",
        "print(\"Top 10 Billionaires:\")\n",
        "print(top_10[\"AGE\"].mean())"
      ],
      "metadata": {
        "id": "aTQI4rX2cDEu"
      },
      "execution_count": null,
      "outputs": []
    },
    {
      "cell_type": "code",
      "source": [
        "print(\"Bottom 10 Billionaires:\")\n",
        "print(bottom_10[\"AGE\"].mean())"
      ],
      "metadata": {
        "id": "shzoU2NOld8i"
      },
      "execution_count": null,
      "outputs": []
    },
    {
      "cell_type": "code",
      "source": [
        "#plot a bar chart of the average ages of the top 10 and bottom 10 billionaires\n",
        "import matplotlib.pyplot as plt\n",
        "plt.bar([\"Top 10\", \"Bottom 10\"], top_10[\"AGE\"].mean(), bottom_10[\"AGE\"].mean())\n",
        "plt.xlabel(\"Group\")\n",
        "plt.ylabel(\"Average Age\")\n",
        "plt.title(\"Average Age of Top 10 vs. Bottom 10 Billionaires\")\n",
        "plt.show()"
      ],
      "metadata": {
        "id": "UBI5n1hnntPz"
      },
      "execution_count": null,
      "outputs": []
    },
    {
      "cell_type": "markdown",
      "source": [
        "Comparison by Country"
      ],
      "metadata": {
        "id": "K7AcqaA2oKuE"
      }
    },
    {
      "cell_type": "code",
      "source": [
        "#Get the number of billionaires by country for each group\n",
        "print(\"Top 10 Billionaires by Country:\")\n",
        "print(top_10[\"COUNTRY/TERRITORY\"].value_counts())\n",
        "print()\n",
        "print(\"Bottom 10 Billionaires by Country:\")\n",
        "print(bottom_10[\"COUNTRY/TERRITORY\"].value_counts())\n",
        "top_10_counts = top_10[\"COUNTRY/TERRITORY\"].value_counts()\n",
        "bottom_10_counts = bottom_10[\"COUNTRY/TERRITORY\"].value_counts()"
      ],
      "metadata": {
        "id": "rQnO6nutoH9B"
      },
      "execution_count": null,
      "outputs": []
    },
    {
      "cell_type": "code",
      "source": [
        "#Combone the two series into a single dataframe for plotting \n",
        "\n",
        "counts = pd.DataFrame({\"Top 10\": top_10_counts, \"Bottom 10\": bottom_10_counts})\n",
        "counts = counts.fillna(0).astype(int)"
      ],
      "metadata": {
        "id": "RtoEuFVNomqi"
      },
      "execution_count": null,
      "outputs": []
    },
    {
      "cell_type": "code",
      "source": [
        "#Plot the stacked bar chart\n",
        "counts.plot(kind = \"bar\", stacked = True)\n",
        "plt.xlabel(\"Country\")\n",
        "plt.ylabel(\"Number of Billionaires\")\n",
        "plt.title(\"Number of Billionaires by country for top 10 vs. bottom 10\")\n",
        "plt.legend(loc = \"upper left\")\n",
        "plt.show()"
      ],
      "metadata": {
        "id": "vBVNWyJdqQKE"
      },
      "execution_count": null,
      "outputs": []
    },
    {
      "cell_type": "markdown",
      "source": [
        "Question 3: Which Country has the most billionaires?"
      ],
      "metadata": {
        "id": "JantBsiqrWlx"
      }
    },
    {
      "cell_type": "code",
      "source": [
        "#Group the data by country/territory and count the number of billionaires in each group\n",
        "\n",
        "grouped = df.groupby(\"COUNTRY/TERRITORY\")[\"RANK\"].count()"
      ],
      "metadata": {
        "id": "QaY2CRNuq5Sh"
      },
      "execution_count": null,
      "outputs": []
    },
    {
      "cell_type": "code",
      "source": [
        "#Find the country/territory with the most billionaires \n",
        "most_billionaires_country = grouped.idxmax()\n",
        "\n",
        "print(\"The country/territory with the most billionaires is:\", most_billionaires_country)"
      ],
      "metadata": {
        "id": "Jt8t7kMgrh0C"
      },
      "execution_count": null,
      "outputs": []
    },
    {
      "cell_type": "markdown",
      "source": [
        "Question 4: What is the correlation between age and net worth\n"
      ],
      "metadata": {
        "id": "d9ffWsqhr0ue"
      }
    },
    {
      "cell_type": "code",
      "source": [
        "#Find correlation between age and net worth \n",
        "correlation = df[\"AGE\"].corr(df[\"NET WORTH\"])\n",
        "correlation"
      ],
      "metadata": {
        "id": "SDnvltr2rlTz"
      },
      "execution_count": null,
      "outputs": []
    },
    {
      "cell_type": "markdown",
      "source": [
        "A correlation coefficient of -0.058 indicates a small negative linear relationship between age and net worth. This suggests that there is a weak linear relationship between the two variables and that changes in one variable are not strongly associated with changes in the other. In this case, the negative sign indicates that as age increases, the net worth decreases, although the magnitude of the correlation is small."
      ],
      "metadata": {
        "id": "lD3XBL2BsKGU"
      }
    },
    {
      "cell_type": "code",
      "source": [
        "import seaborn as sns"
      ],
      "metadata": {
        "id": "0oUGOCC7sBmb"
      },
      "execution_count": null,
      "outputs": []
    },
    {
      "cell_type": "code",
      "source": [
        "#plot the scatterplot \n",
        "plt.figure(figsize = (8,6))\n",
        "sns.scatterplot(x = \"AGE\", y = \"NET WORTH\", data = df)\n",
        "plt.show()"
      ],
      "metadata": {
        "id": "wf6QTdchsNrF"
      },
      "execution_count": null,
      "outputs": []
    },
    {
      "cell_type": "markdown",
      "source": [
        "Question 5: Which country has the highest proportion of billionaires?"
      ],
      "metadata": {
        "id": "7xY33b32scNe"
      }
    },
    {
      "cell_type": "code",
      "source": [
        "#group the data by source and count the number of billionaires from each source\n",
        "\n",
        "country_group = df.groupby(\"COUNTRY/TERRITORY\").size().reset_index(name = 'counts')\n",
        "\n",
        "#calculate the proportion of billionaires from each source\n",
        "country_group[\"proportion\"] = country_group[\"counts\"]/df.shape[0]\n",
        "\n",
        "#print the proportion of billionaires from each source\n",
        "print(country_group[[\"COUNTRY/TERRITORY\",\"proportion\"]])"
      ],
      "metadata": {
        "id": "E-Ty2i8ssZbX"
      },
      "execution_count": null,
      "outputs": []
    },
    {
      "cell_type": "markdown",
      "source": [
        "Alternatively, to find which country has the highest probability of billionaires whose net worth will be above average (among the top 50), we can calculate the average net worth of all billionaires and then count the number of billionaires in each country whose net worth is above the average. Finally, divide this number by the total number of billionaires in each country to get the probability of having above-average billionaires in that country.\n"
      ],
      "metadata": {
        "id": "Yi_0G78vtDzF"
      }
    },
    {
      "cell_type": "code",
      "source": [
        "#Calcualte the average net worth of all billionaires\n",
        "average_net_worth = df[\"NET WORTH\"].mean()\n",
        "#group thedata by country\n",
        "grouped = df.groupby(by = \"COUNTRY/TERRITORY\")\n",
        "#For each country, count the number of billionaires with net worth above the average\n",
        "above_average_counts = grouped.apply(lambda x:x[x['NET WORTH']> average_net_worth].count()[\"NET WORTH\"])\n",
        "\n",
        "#calculate the total number of billioanires in each country\n",
        "total_counts = grouped.count()[\"NET WORTH\"]\n",
        "\n",
        "#Calculate the probability of having above average billionaires by dividng the number of above average billionaires\n",
        "\n",
        "probabililties = above_average_counts/total_counts\n",
        "\n",
        "#Find the country with the highest probability \n",
        "result = probabililties.idxmax()\n",
        "print(\"The Country with the highest probability of having above average billioanires is:\", result)"
      ],
      "metadata": {
        "id": "tWYp3_BBsjmG"
      },
      "execution_count": null,
      "outputs": []
    },
    {
      "cell_type": "code",
      "source": [],
      "metadata": {
        "id": "puZHZ8Jytziw"
      },
      "execution_count": null,
      "outputs": []
    }
  ]
}